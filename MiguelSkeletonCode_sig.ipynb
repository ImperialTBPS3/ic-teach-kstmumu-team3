{
 "cells": [
  {
   "cell_type": "markdown",
   "metadata": {},
   "source": [
    "\n",
    "# $K^* \\mu \\mu$ angular analysis - Getting started"
   ]
  },
  {
   "cell_type": "code",
   "execution_count": 1,
   "metadata": {
    "pycharm": {
     "name": "#%%\n"
    }
   },
   "outputs": [],
   "source": [
    "import numpy as np\n",
    "import pandas as pd\n",
    "import matplotlib.pyplot as plt\n",
    "from iminuit import Minuit"
   ]
  },
  {
   "cell_type": "markdown",
   "metadata": {},
   "source": [
    "## Loading the data\n",
    "\n",
    "Taking sig.pkl and splitting into bins using bit from Voltron V4"
   ]
  },
  {
   "cell_type": "code",
   "execution_count": 2,
   "metadata": {
    "pycharm": {
     "name": "#%%\n"
    }
   },
   "outputs": [
    {
     "ename": "FileNotFoundError",
     "evalue": "[Errno 2] No such file or directory: 'data/sig.pkl'",
     "output_type": "error",
     "traceback": [
      "\u001b[1;31m---------------------------------------------------------------------------\u001b[0m",
      "\u001b[1;31mFileNotFoundError\u001b[0m                         Traceback (most recent call last)",
      "\u001b[1;32m~\\AppData\\Local\\Temp/ipykernel_31532/2092272637.py\u001b[0m in \u001b[0;36m<module>\u001b[1;34m\u001b[0m\n\u001b[1;32m----> 1\u001b[1;33m \u001b[0mdf\u001b[0m \u001b[1;33m=\u001b[0m \u001b[0mpd\u001b[0m\u001b[1;33m.\u001b[0m\u001b[0mread_pickle\u001b[0m\u001b[1;33m(\u001b[0m\u001b[1;34m\"data/sig.pkl\"\u001b[0m\u001b[1;33m)\u001b[0m\u001b[1;33m\u001b[0m\u001b[1;33m\u001b[0m\u001b[0m\n\u001b[0m\u001b[0;32m      2\u001b[0m \u001b[1;33m\u001b[0m\u001b[0m\n\u001b[0;32m      3\u001b[0m \u001b[1;31m# %% bin splitting\u001b[0m\u001b[1;33m\u001b[0m\u001b[1;33m\u001b[0m\u001b[1;33m\u001b[0m\u001b[0m\n\u001b[0;32m      4\u001b[0m \u001b[1;31m# I'm sure there's a more elegant solution but I can't think of one right now.\u001b[0m\u001b[1;33m\u001b[0m\u001b[1;33m\u001b[0m\u001b[1;33m\u001b[0m\u001b[0m\n\u001b[0;32m      5\u001b[0m \u001b[1;33m\u001b[0m\u001b[0m\n",
      "\u001b[1;32m~\\Anaconda3\\envs\\ComprehensivesEnv\\lib\\site-packages\\pandas\\io\\pickle.py\u001b[0m in \u001b[0;36mread_pickle\u001b[1;34m(filepath_or_buffer, compression, storage_options)\u001b[0m\n\u001b[0;32m    194\u001b[0m     \"\"\"\n\u001b[0;32m    195\u001b[0m     \u001b[0mexcs_to_catch\u001b[0m \u001b[1;33m=\u001b[0m \u001b[1;33m(\u001b[0m\u001b[0mAttributeError\u001b[0m\u001b[1;33m,\u001b[0m \u001b[0mImportError\u001b[0m\u001b[1;33m,\u001b[0m \u001b[0mModuleNotFoundError\u001b[0m\u001b[1;33m,\u001b[0m \u001b[0mTypeError\u001b[0m\u001b[1;33m)\u001b[0m\u001b[1;33m\u001b[0m\u001b[1;33m\u001b[0m\u001b[0m\n\u001b[1;32m--> 196\u001b[1;33m     with get_handle(\n\u001b[0m\u001b[0;32m    197\u001b[0m         \u001b[0mfilepath_or_buffer\u001b[0m\u001b[1;33m,\u001b[0m\u001b[1;33m\u001b[0m\u001b[1;33m\u001b[0m\u001b[0m\n\u001b[0;32m    198\u001b[0m         \u001b[1;34m\"rb\"\u001b[0m\u001b[1;33m,\u001b[0m\u001b[1;33m\u001b[0m\u001b[1;33m\u001b[0m\u001b[0m\n",
      "\u001b[1;32m~\\Anaconda3\\envs\\ComprehensivesEnv\\lib\\site-packages\\pandas\\io\\common.py\u001b[0m in \u001b[0;36mget_handle\u001b[1;34m(path_or_buf, mode, encoding, compression, memory_map, is_text, errors, storage_options)\u001b[0m\n\u001b[0;32m    709\u001b[0m         \u001b[1;32melse\u001b[0m\u001b[1;33m:\u001b[0m\u001b[1;33m\u001b[0m\u001b[1;33m\u001b[0m\u001b[0m\n\u001b[0;32m    710\u001b[0m             \u001b[1;31m# Binary mode\u001b[0m\u001b[1;33m\u001b[0m\u001b[1;33m\u001b[0m\u001b[1;33m\u001b[0m\u001b[0m\n\u001b[1;32m--> 711\u001b[1;33m             \u001b[0mhandle\u001b[0m \u001b[1;33m=\u001b[0m \u001b[0mopen\u001b[0m\u001b[1;33m(\u001b[0m\u001b[0mhandle\u001b[0m\u001b[1;33m,\u001b[0m \u001b[0mioargs\u001b[0m\u001b[1;33m.\u001b[0m\u001b[0mmode\u001b[0m\u001b[1;33m)\u001b[0m\u001b[1;33m\u001b[0m\u001b[1;33m\u001b[0m\u001b[0m\n\u001b[0m\u001b[0;32m    712\u001b[0m         \u001b[0mhandles\u001b[0m\u001b[1;33m.\u001b[0m\u001b[0mappend\u001b[0m\u001b[1;33m(\u001b[0m\u001b[0mhandle\u001b[0m\u001b[1;33m)\u001b[0m\u001b[1;33m\u001b[0m\u001b[1;33m\u001b[0m\u001b[0m\n\u001b[0;32m    713\u001b[0m \u001b[1;33m\u001b[0m\u001b[0m\n",
      "\u001b[1;31mFileNotFoundError\u001b[0m: [Errno 2] No such file or directory: 'data/sig.pkl'"
     ]
    }
   ],
   "source": [
    "df = pd.read_pickle(\"data/sig.pkl\")\n",
    "\n",
    "# %% bin splitting\n",
    "# I'm sure there's a more elegant solution but I can't think of one right now.\n",
    "\n",
    "bin0 = df[(df['q2'] > 0.1) & (df['q2'] <= 0.98)]\n",
    "bin1 = df[(df['q2'] > 1.1) & (df['q2'] <= 2.5)]\n",
    "bin2 = df[(df['q2'] > 2.5) & (df['q2'] <= 4.0)]\n",
    "bin3 = df[(df['q2'] > 4.0) & (df['q2'] <= 6.0)]\n",
    "bin4 = df[(df['q2'] > 6.0) & (df['q2'] <= 8.0)]\n",
    "bin5 = df[(df['q2'] > 15.0) & (df['q2'] <= 17.0)]\n",
    "bin6 = df[(df['q2'] > 17.0) & (df['q2'] <= 19.0)]\n",
    "bin7 = df[(df['q2'] > 11.0) & (df['q2'] <= 12.5)]\n",
    "bin8 = df[(df['q2'] > 1.0) & (df['q2'] <= 6.0)] # ???\n",
    "# we're only given toy data up to bin 6, so how can we check that this isn't a mistake?\n",
    "bin9 = df[(df['q2'] > 15.0) & (df['q2'] <= 17.9)]\n",
    "\n",
    "bins = [bin0, bin1, bin2, bin3, bin4, bin5, bin6, bin7, bin8, bin9]\n",
    "\n",
    "bins[0].head()"
   ]
  },
  {
   "cell_type": "markdown",
   "metadata": {},
   "source": [
    "Let us have a look at the distribution of the variable $cos(\\theta_l)$, which will be used below, in one of the bins."
   ]
  },
  {
   "cell_type": "markdown",
   "metadata": {},
   "source": [
    "## Fitting\n",
    "Let us assume a flat acceptance distribution for the following.\n",
    "We have\n",
    "$\\frac{d^2\\Gamma_P}{dq^2dcos\\theta_l} = \\frac{3}{8}[\\frac{3}{2} - \\frac{1}{2}F_L + \\frac{1}{2}cos2\\theta_l(1-3F_L) + \\frac{8}{3}A_{FB}cos\\theta_l]$"
   ]
  },
  {
   "cell_type": "markdown",
   "metadata": {},
   "source": [
    "Let us check how the negative log-likelihood function defined above looks like for a given bin and a fixed $A_{FB}$ or a fixed $F_L$."
   ]
  },
  {
   "cell_type": "markdown",
   "metadata": {},
   "source": [
    "### Fitting\n",
    "We then use `iminuit` to optimize $A_{FB}$ and $F_L$."
   ]
  },
  {
   "cell_type": "markdown",
   "metadata": {},
   "source": [
    "Let us also look at the profiles for $A_{FB}$ and $F_L$ for a bin (e.g. bin number 0)."
   ]
  },
  {
   "cell_type": "markdown",
   "metadata": {},
   "source": [
    "We can also plot the resulting fitted PDF over the measured $cos(\\theta_l)$ distribution."
   ]
  },
  {
   "cell_type": "markdown",
   "metadata": {},
   "source": [
    "Finally, let us visualize the results in each bin."
   ]
  },
  {
   "cell_type": "markdown",
   "metadata": {},
   "source": [
    "## $\\theta_L$"
   ]
  },
  {
   "cell_type": "code",
   "execution_count": null,
   "metadata": {},
   "outputs": [],
   "source": [
    "#THETAL\n",
    "plt.hist(bins[3]['costhetal'], bins=25, density=True)\n",
    "plt.xlabel(r'$cos(\\theta_l)$')\n",
    "plt.ylabel(r'Number of candidates')\n",
    "plt.grid()\n",
    "plt.show()"
   ]
  },
  {
   "cell_type": "code",
   "execution_count": null,
   "metadata": {},
   "outputs": [],
   "source": [
    "#THETAL\n",
    "def d2gamma_p_d2q2_dcosthetal(fl, afb, cos_theta_l):\n",
    "    \"\"\"\n",
    "    Returns the pdf defined above\n",
    "    :param fl: f_l observable\n",
    "    :param afb: a_fb observable\n",
    "    :param cos_theta_l: cos(theta_l)\n",
    "    :return:\n",
    "    \"\"\"\n",
    "    ctl = cos_theta_l\n",
    "    c2tl = 2 * ctl ** 2 - 1\n",
    "    acceptance = 0.5  # acceptance \"function\"\n",
    "    scalar_array = 3/8 * (3/2 - 1/2 * fl + 1/2 * c2tl * (1 - 3 * fl) + 8/3 * afb * ctl) * acceptance\n",
    "    normalised_scalar_array = scalar_array * 2  # normalising scalar array to account for the non-unity acceptance function\n",
    "    return normalised_scalar_array\n",
    "\n"
   ]
  },
  {
   "cell_type": "code",
   "execution_count": null,
   "metadata": {},
   "outputs": [],
   "source": [
    "#THETAL\n",
    "def log_likelihoodthetal(fl, afb, _bin): #FOR THETA_L\n",
    "    \"\"\"\n",
    "    Returns the negative log-likelihood of the pdf defined above\n",
    "    :param fl: f_l observable\n",
    "    :param afb: a_fb observable\n",
    "    :param _bin: number of the bin to fit\n",
    "    :return:\n",
    "    \"\"\"\n",
    "    _bin = bins[int(_bin)]\n",
    "    ctl = _bin['costhetal']\n",
    "    normalised_scalar_array = d2gamma_p_d2q2_dcosthetal(fl=fl, afb=afb, cos_theta_l=ctl)\n",
    "    return - np.sum(np.log(normalised_scalar_array))"
   ]
  },
  {
   "cell_type": "code",
   "execution_count": null,
   "metadata": {},
   "outputs": [],
   "source": [
    "_test_bin = 1  #FOR THETA_L\n",
    "_test_afb = 0.7\n",
    "_test_fl = 0.0\n",
    "\n",
    "x = np.linspace(-1, 1, 500)\n",
    "fig, (ax1, ax2) = plt.subplots(1, 2, figsize=(8, 3))\n",
    "ax1.plot(x, [log_likelihoodthetal(fl=i, afb=_test_afb, _bin=_test_bin) for i in x])\n",
    "ax1.set_title(r'$A_{FB}$ = ' + str(_test_afb))\n",
    "ax1.set_xlabel(r'$F_L$')\n",
    "ax1.set_ylabel(r'$-\\mathcal{L}$')\n",
    "ax1.grid()\n",
    "ax2.plot(x, [log_likelihoodthetal(fl=_test_fl, afb=i, _bin=_test_bin) for i in x])\n",
    "ax2.set_title(r'$F_{L}$ = ' + str(_test_fl))\n",
    "ax2.set_xlabel(r'$A_{FB}$')\n",
    "ax2.set_ylabel(r'$-\\mathcal{L}$')\n",
    "ax2.grid()\n",
    "plt.tight_layout()\n",
    "plt.show()"
   ]
  },
  {
   "cell_type": "code",
   "execution_count": null,
   "metadata": {},
   "outputs": [],
   "source": [
    "#FOR THETA_L\n",
    "bin_number_to_check = 0  # bin that we want to check in more details in the next cell\n",
    "bin_results_to_check = None\n",
    "\n",
    "log_likelihoodthetal.errordef = Minuit.LIKELIHOOD\n",
    "decimal_places = 3\n",
    "starting_point = [-0.1,0.0]\n",
    "fls, fl_errs = [], []\n",
    "afbs, afb_errs = [], []\n",
    "for i in range(len(bins)):\n",
    "    m = Minuit(log_likelihoodthetal, fl=starting_point[0], afb=starting_point[1], _bin=i)\n",
    "    m.fixed['_bin'] = True  # fixing the bin number as we don't want to optimize it\n",
    "    m.limits=((-1.0, 1.0), (-1.0, 1.0), None)\n",
    "    m.migrad()\n",
    "    m.hesse()\n",
    "    if i == bin_number_to_check:\n",
    "        bin_results_to_check = m\n",
    "    fls.append(m.values[0])\n",
    "    afbs.append(m.values[1])\n",
    "    fl_errs.append(m.errors[0])\n",
    "    afb_errs.append(m.errors[1])\n",
    "    print(f\"Bin {i}: {np.round(fls[i], decimal_places)} pm {np.round(fl_errs[i], decimal_places)},\", f\"{np.round(afbs[i], decimal_places)} pm {np.round(afb_errs[i], decimal_places)}. Function minimum considered valid: {m.fmin.is_valid}\")"
   ]
  },
  {
   "cell_type": "code",
   "execution_count": null,
   "metadata": {},
   "outputs": [],
   "source": [
    "#FOR THETA_L\n",
    "plt.figure(figsize=(8, 5))\n",
    "plt.subplot(221)\n",
    "bin_results_to_check.draw_mnprofile('afb', bound=3)\n",
    "plt.subplot(222)\n",
    "bin_results_to_check.draw_mnprofile('fl', bound=3)\n",
    "plt.tight_layout()\n",
    "plt.show()"
   ]
  },
  {
   "cell_type": "code",
   "execution_count": null,
   "metadata": {},
   "outputs": [],
   "source": [
    "#THETA L\n",
    "bin_to_plot = 3\n",
    "number_of_bins_in_hist = 25\n",
    "cos_theta_l_bin = bins[bin_to_plot]['costhetal']\n",
    "hist, _bins, _ = plt.hist(cos_theta_l_bin, bins=number_of_bins_in_hist)\n",
    "x = np.linspace(-1, 1, number_of_bins_in_hist)\n",
    "pdf_multiplier = np.sum(hist) * (np.max(cos_theta_l_bin) - np.min(cos_theta_l_bin)) / number_of_bins_in_hist\n",
    "y = d2gamma_p_d2q2_dcosthetal(fl=fls[bin_to_plot], afb=afbs[bin_to_plot], cos_theta_l=x) * pdf_multiplier\n",
    "plt.plot(x, y, label=f'Fit for bin {bin_to_plot}')\n",
    "plt.xlabel(r'$cos(\\theta_l)$')\n",
    "plt.ylabel(r'Number of candidates')\n",
    "plt.legend()\n",
    "plt.grid()\n",
    "plt.show()"
   ]
  },
  {
   "cell_type": "code",
   "execution_count": null,
   "metadata": {},
   "outputs": [],
   "source": [
    "#THETAL\n",
    "fig, (ax1, ax2) = plt.subplots(1, 2, figsize=(7, 3))\n",
    "ax1.errorbar(np.linspace(0, len(bins) - 1, len(bins)), fls, yerr=fl_errs, fmt='o', markersize=2, label=r'$F_L$', color='red')\n",
    "ax2.errorbar(np.linspace(0, len(bins) - 1, len(bins)), afbs, yerr=afb_errs, fmt='o', markersize=2, label=r'$A_{FB}$', color='red')\n",
    "ax1.grid()\n",
    "ax2.grid()\n",
    "ax1.set_ylabel(r'$F_L$')\n",
    "ax2.set_ylabel(r'$A_{FB}$')\n",
    "ax1.set_xlabel(r'Bin number')\n",
    "ax2.set_xlabel(r'Bin number')\n",
    "plt.tight_layout()\n",
    "plt.show()\n"
   ]
  },
  {
   "cell_type": "markdown",
   "metadata": {},
   "source": [
    "## $\\phi$"
   ]
  },
  {
   "cell_type": "code",
   "execution_count": null,
   "metadata": {},
   "outputs": [],
   "source": [
    "#PHI\n",
    "plt.hist(bins[6]['phi'], bins=25, density=True)\n",
    "plt.xlabel(r'$\\phi$')\n",
    "plt.ylabel(r'Number of candidates')\n",
    "plt.grid()\n",
    "plt.show()"
   ]
  },
  {
   "cell_type": "code",
   "execution_count": null,
   "metadata": {},
   "outputs": [],
   "source": [
    "#PHI\n",
    "def d2gamma_p_d2q2_dphi(s3, s9, phi):\n",
    "    \"\"\"\n",
    "    Returns the pdf defined above\n",
    "    :param s3: s3 observable\n",
    "    :param s9: s9 observable\n",
    "    :param phi: phi\n",
    "    :return:\n",
    "    \"\"\"\n",
    "\n",
    "    acceptance = 0.5  # acceptance \"function\"\n",
    "    scalar_array = 1/(2*np.pi)*(1+s3*np.cos(2*phi)+s9*np.sin(2*phi)) * acceptance\n",
    "    normalised_scalar_array = scalar_array * 2  # normalising scalar array to account for the non-unity acceptance function\n",
    "    return normalised_scalar_array\n"
   ]
  },
  {
   "cell_type": "code",
   "execution_count": null,
   "metadata": {},
   "outputs": [],
   "source": [
    "#PHI\n",
    "def log_likelihoodphi(s3, s9, _bin): #FOR PHI\n",
    "    \"\"\"\n",
    "    Returns the negative log-likelihood of the pdf defined above\n",
    "    :param fl: f_l observable\n",
    "    :param afb: a_fb observable\n",
    "    :param _bin: number of the bin to fit\n",
    "    :return:\n",
    "    \"\"\"\n",
    "    _bin = bins[int(_bin)]\n",
    "    Phi = _bin['phi']\n",
    "    normalised_scalar_array = d2gamma_p_d2q2_dphi(s3=s3, s9=s9, phi=Phi)\n",
    "    return - np.sum(np.log(normalised_scalar_array))"
   ]
  },
  {
   "cell_type": "code",
   "execution_count": null,
   "metadata": {},
   "outputs": [],
   "source": [
    "_test_bin = 6  #FOR PHI\n",
    "_test_s3 = 0.7\n",
    "_test_s9 = 0\n",
    "\n",
    "x = np.linspace(-1, 1, 500)\n",
    "fig, (ax1, ax2) = plt.subplots(1, 2, figsize=(8, 3))\n",
    "ax1.plot(x, [log_likelihoodphi(s3=i, s9=_test_s9, _bin=_test_bin) for i in x])\n",
    "ax1.set_title(r'$S_9$ = ' + str(_test_s9))\n",
    "ax1.set_xlabel(r'$S_3$')\n",
    "ax1.set_ylabel(r'$-\\mathcal{L}$')\n",
    "ax1.grid()\n",
    "ax2.plot(x, [log_likelihoodphi(s3=_test_s3, s9=i, _bin=_test_bin) for i in x])\n",
    "ax2.set_title(r'$S_3$ = ' + str(_test_s3))\n",
    "ax2.set_xlabel(r'$S_9$')\n",
    "ax2.set_ylabel(r'$-\\mathcal{L}$')\n",
    "ax2.grid()\n",
    "plt.tight_layout()\n",
    "plt.show()"
   ]
  },
  {
   "cell_type": "code",
   "execution_count": null,
   "metadata": {},
   "outputs": [],
   "source": [
    "#FOR PHI\n",
    "bin_number_to_check = 6  # bin that we want to check in more details in the next cell\n",
    "bin_results_to_check = None\n",
    "\n",
    "log_likelihoodphi.errordef = Minuit.LIKELIHOOD\n",
    "decimal_places = 3\n",
    "starting_point = [-0.25,0.0]\n",
    "s3s, s3_errs = [], []\n",
    "s9s, s9_errs = [], []\n",
    "for i in range(len(bins)):\n",
    "    m = Minuit(log_likelihoodphi, s3=starting_point[0], s9=starting_point[1], _bin=i)\n",
    "    m.fixed['_bin'] = True  # fixing the bin number as we don't want to optimize it\n",
    "    m.limits=((-1, 1), (-1, 1), None)\n",
    "    m.migrad()\n",
    "    m.hesse()\n",
    "    if i == bin_number_to_check:\n",
    "        bin_results_to_check = m\n",
    "    s3s.append(m.values[0])\n",
    "    s9s.append(m.values[1])\n",
    "    s3_errs.append(m.errors[0])\n",
    "    s9_errs.append(m.errors[1])\n",
    "    print(f\"Bin {i}: S3={np.round(s3s[i], decimal_places)} pm {np.round(s3_errs[i], decimal_places)},\", f\" S9={np.round(s9s[i], decimal_places)} pm {np.round(s9_errs[i], decimal_places)}. Function minimum considered valid: {m.fmin.is_valid}\")"
   ]
  },
  {
   "cell_type": "code",
   "execution_count": null,
   "metadata": {},
   "outputs": [],
   "source": [
    "#FOR PHI\n",
    "plt.figure(figsize=(8, 5))\n",
    "plt.subplot(221)\n",
    "bin_results_to_check.draw_mnprofile('s9', bound=3)\n",
    "plt.subplot(222)\n",
    "bin_results_to_check.draw_mnprofile('s3', bound=3)\n",
    "plt.tight_layout()\n",
    "plt.show()"
   ]
  },
  {
   "cell_type": "code",
   "execution_count": null,
   "metadata": {},
   "outputs": [],
   "source": [
    "# PHI\n",
    "bin_to_plot = 6\n",
    "number_of_bins_in_hist = 25\n",
    "phi_bin = bins[bin_to_plot]['phi']\n",
    "hist, _bins, _ = plt.hist(phi_bin, bins=number_of_bins_in_hist)\n",
    "x = np.linspace(-np.pi, np.pi, number_of_bins_in_hist)\n",
    "pdf_multiplier = np.sum(hist) * (np.max(phi_bin) - np.min(phi_bin)) / number_of_bins_in_hist\n",
    "y = d2gamma_p_d2q2_dphi(s3=s3s[bin_to_plot], s9=s9s[bin_to_plot], phi=x) * pdf_multiplier\n",
    "plt.plot(x, y, label=f'Fit for bin {bin_to_plot}')\n",
    "plt.xlabel(r'$\\phi$')\n",
    "plt.ylabel(r'Number of candidates')\n",
    "plt.legend()\n",
    "plt.grid()\n",
    "plt.show()"
   ]
  },
  {
   "cell_type": "code",
   "execution_count": null,
   "metadata": {},
   "outputs": [],
   "source": [
    "#PHI\n",
    "fig, (ax1, ax2) = plt.subplots(1, 2, figsize=(7, 3))\n",
    "ax1.errorbar(np.linspace(0, len(bins) - 1, len(bins)), s3s, yerr=s3_errs, fmt='o', markersize=2, label=r'$S_3$', color='red')\n",
    "ax2.errorbar(np.linspace(0, len(bins) - 1, len(bins)), s9s, yerr=s9_errs, fmt='o', markersize=2, label=r'$S_9$', color='red')\n",
    "ax1.grid()\n",
    "ax2.grid()\n",
    "ax1.set_ylabel(r'$S_3$')\n",
    "ax2.set_ylabel(r'$S_9$')\n",
    "ax1.set_xlabel(r'Bin number')\n",
    "ax2.set_xlabel(r'Bin number')\n",
    "plt.tight_layout()\n",
    "plt.show()"
   ]
  },
  {
   "cell_type": "markdown",
   "metadata": {},
   "source": [
    "## $\\theta_K$"
   ]
  },
  {
   "cell_type": "code",
   "execution_count": null,
   "metadata": {},
   "outputs": [],
   "source": [
    "#THETAK\n",
    "plt.hist(bins[1]['costhetak'], bins=25, density=True)\n",
    "plt.xlabel(r'$\\cos(\\theta_k)$')\n",
    "plt.ylabel(r'Number of candidates')\n",
    "plt.grid()\n",
    "plt.show()"
   ]
  },
  {
   "cell_type": "code",
   "execution_count": null,
   "metadata": {},
   "outputs": [],
   "source": [
    "#THETAK\n",
    "def d2gamma_p_d2q2_dcosthetak(fl, cos_theta_k):\n",
    "    \"\"\"\n",
    "    Returns the pdf defined above\n",
    "    :param fl: f_l observable\n",
    "    :param afb: a_fb observable\n",
    "    :param cos_theta_k: cos(theta_k)\n",
    "    :return:\n",
    "    \"\"\"\n",
    "    ctk = cos_theta_k\n",
    "    acceptance = 0.5  # acceptance \"function\"\n",
    "    scalar_array = 3/4 * ((3*fl-1)*ctk**2 +(1-fl)) * acceptance\n",
    "    normalised_scalar_array = scalar_array * 2  # normalising scalar array to account for the non-unity acceptance function\n",
    "    return normalised_scalar_array\n"
   ]
  },
  {
   "cell_type": "code",
   "execution_count": null,
   "metadata": {},
   "outputs": [],
   "source": [
    "def log_likelihoodthetak(fl, _bin): #FOR THETA_K\n",
    "    \"\"\"\n",
    "    Returns the negative log-likelihood of the pdf defined above\n",
    "    :param fl: f_l observable\n",
    "    :param afb: a_fb observable\n",
    "    :param _bin: number of the bin to fit\n",
    "    :return:\n",
    "    \"\"\"\n",
    "    _bin = bins[int(_bin)]\n",
    "    ctk = _bin['costhetak']\n",
    "    normalised_scalar_array = d2gamma_p_d2q2_dcosthetak(fl=fl, cos_theta_k=ctk)\n",
    "    return - np.sum(np.log(normalised_scalar_array))"
   ]
  },
  {
   "cell_type": "code",
   "execution_count": null,
   "metadata": {},
   "outputs": [],
   "source": [
    "_test_bin = 1  #FOR THETA_K\n",
    "\n",
    "\n",
    "x = np.linspace(-1, 1, 500)\n",
    "plt.plot(x, [log_likelihoodthetak(fl=i, _bin=_test_bin) for i in x])\n",
    "plt.xlabel(r'$F_L$')\n",
    "plt.ylabel(r'$-\\mathcal{L}$')\n",
    "plt.grid()\n",
    "plt.tight_layout()\n",
    "plt.show()"
   ]
  },
  {
   "cell_type": "code",
   "execution_count": null,
   "metadata": {},
   "outputs": [],
   "source": [
    "#FOR THETA_L\n",
    "bin_number_to_check = 0  # bin that we want to check in more details in the next cell\n",
    "bin_results_to_check = None\n",
    "\n",
    "log_likelihoodthetak.errordef = Minuit.LIKELIHOOD\n",
    "decimal_places = 3\n",
    "starting_point = [0.5]\n",
    "fls, fl_errs = [], []\n",
    "\n",
    "for i in range(len(bins)):\n",
    "    m = Minuit(log_likelihoodthetak, fl=starting_point[0], _bin=i)\n",
    "    m.fixed['_bin'] = True  # fixing the bin number as we don't want to optimize it\n",
    "    m.limits=((-1.0, 1.0), None)\n",
    "    m.migrad()\n",
    "    m.hesse()\n",
    "    if i == bin_number_to_check:\n",
    "        bin_results_to_check = m\n",
    "    fls.append(m.values[0])\n",
    "    fl_errs.append(m.errors[0])\n",
    "    print(f\"Bin {i}: {np.round(fls[i], decimal_places)} pm {np.round(fl_errs[i], decimal_places)}. Function minimum considered valid: {m.fmin.is_valid}\")"
   ]
  },
  {
   "cell_type": "code",
   "execution_count": null,
   "metadata": {},
   "outputs": [],
   "source": [
    "#FOR THETA_K\n",
    "plt.figure(figsize=(8, 5))\n",
    "plt.subplot(222)\n",
    "bin_results_to_check.draw_mnprofile('fl', bound=3)\n",
    "plt.tight_layout()\n",
    "plt.show()"
   ]
  },
  {
   "cell_type": "code",
   "execution_count": null,
   "metadata": {},
   "outputs": [],
   "source": [
    "#THETA K\n",
    "bin_to_plot = 3\n",
    "number_of_bins_in_hist = 25\n",
    "cos_theta_k_bin = bins[bin_to_plot]['costhetak']\n",
    "hist, _bins, _ = plt.hist(cos_theta_l_bin, bins=number_of_bins_in_hist)\n",
    "x = np.linspace(-1, 1, number_of_bins_in_hist)\n",
    "pdf_multiplier = np.sum(hist) * (np.max(cos_theta_k_bin) - np.min(cos_theta_k_bin)) / number_of_bins_in_hist\n",
    "y = d2gamma_p_d2q2_dcosthetak(fl=fls[bin_to_plot], cos_theta_k=x) * pdf_multiplier\n",
    "plt.plot(x, y, label=f'Fit for bin {bin_to_plot}')\n",
    "plt.xlabel(r'$cos(\\theta_k)$')\n",
    "plt.ylabel(r'Number of candidates')\n",
    "plt.legend()\n",
    "plt.grid()\n",
    "plt.show()"
   ]
  },
  {
   "cell_type": "code",
   "execution_count": null,
   "metadata": {},
   "outputs": [],
   "source": [
    "#THETAK\n",
    "fig, (ax1) = plt.subplots(1, figsize=(5, 4))\n",
    "ax1.errorbar(np.linspace(0, len(bins) - 1, len(bins)), fls, yerr=fl_errs, fmt='o', markersize=2, label=r'$F_L$', color='red')\n",
    "ax1.grid()\n",
    "ax1.set_ylabel(r'$F_L$')\n",
    "ax1.set_xlabel(r'Bin number')\n",
    "\n",
    "plt.tight_layout()\n",
    "plt.show()"
   ]
  }
 ],
 "metadata": {
  "kernelspec": {
   "display_name": "Python 3 (ipykernel)",
   "language": "python",
   "name": "python3"
  },
  "language_info": {
   "codemirror_mode": {
    "name": "ipython",
    "version": 3
   },
   "file_extension": ".py",
   "mimetype": "text/x-python",
   "name": "python",
   "nbconvert_exporter": "python",
   "pygments_lexer": "ipython3",
   "version": "3.8.12"
  }
 },
 "nbformat": 4,
 "nbformat_minor": 1
}
