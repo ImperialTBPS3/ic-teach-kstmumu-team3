{
 "cells": [
  {
   "cell_type": "markdown",
   "metadata": {
    "collapsed": false
   },
   "source": [
    "\n",
    "# $K^* \\mu \\mu$ angular analysis - Getting started"
   ]
  },
  {
   "cell_type": "code",
   "execution_count": 18,
   "metadata": {
    "collapsed": false,
    "pycharm": {
     "name": "#%%\n"
    }
   },
   "outputs": [],
   "source": [
    "import numpy as np\n",
    "import pandas as pd\n",
    "import matplotlib.pyplot as plt\n",
    "from iminuit import Minuit"
   ]
  },
  {
   "cell_type": "markdown",
   "metadata": {
    "collapsed": false
   },
   "source": [
    "## Reading the data (splitting into bins!)\n",
    "Taken from Voltron V4"
   ]
  },
  {
   "cell_type": "code",
   "execution_count": 19,
   "metadata": {
    "collapsed": false,
    "pycharm": {
     "name": "#%%\n"
    }
   },
   "outputs": [
    {
     "data": {
      "text/html": [
       "<div>\n",
       "<style scoped>\n",
       "    .dataframe tbody tr th:only-of-type {\n",
       "        vertical-align: middle;\n",
       "    }\n",
       "\n",
       "    .dataframe tbody tr th {\n",
       "        vertical-align: top;\n",
       "    }\n",
       "\n",
       "    .dataframe thead th {\n",
       "        text-align: right;\n",
       "    }\n",
       "</style>\n",
       "<table border=\"1\" class=\"dataframe\">\n",
       "  <thead>\n",
       "    <tr style=\"text-align: right;\">\n",
       "      <th></th>\n",
       "      <th>mu_plus_MC15TuneV1_ProbNNk</th>\n",
       "      <th>mu_plus_MC15TuneV1_ProbNNpi</th>\n",
       "      <th>mu_plus_MC15TuneV1_ProbNNmu</th>\n",
       "      <th>mu_plus_MC15TuneV1_ProbNNe</th>\n",
       "      <th>mu_plus_MC15TuneV1_ProbNNp</th>\n",
       "      <th>mu_plus_P</th>\n",
       "      <th>mu_plus_PT</th>\n",
       "      <th>mu_plus_ETA</th>\n",
       "      <th>mu_plus_PHI</th>\n",
       "      <th>mu_plus_PE</th>\n",
       "      <th>...</th>\n",
       "      <th>Kstar_FDCHI2_OWNPV</th>\n",
       "      <th>J_psi_MM</th>\n",
       "      <th>J_psi_ENDVERTEX_CHI2</th>\n",
       "      <th>J_psi_ENDVERTEX_NDOF</th>\n",
       "      <th>J_psi_FDCHI2_OWNPV</th>\n",
       "      <th>q2</th>\n",
       "      <th>phi</th>\n",
       "      <th>costhetal</th>\n",
       "      <th>costhetak</th>\n",
       "      <th>evtType</th>\n",
       "    </tr>\n",
       "  </thead>\n",
       "  <tbody>\n",
       "    <tr>\n",
       "      <th>10</th>\n",
       "      <td>0.013673</td>\n",
       "      <td>0.002983</td>\n",
       "      <td>0.966088</td>\n",
       "      <td>5.676895e-03</td>\n",
       "      <td>0.001963</td>\n",
       "      <td>6594.92</td>\n",
       "      <td>574.851413</td>\n",
       "      <td>3.131186</td>\n",
       "      <td>2.755104</td>\n",
       "      <td>6595.766331</td>\n",
       "      <td>...</td>\n",
       "      <td>169.407770</td>\n",
       "      <td>808.169625</td>\n",
       "      <td>0.199321</td>\n",
       "      <td>1</td>\n",
       "      <td>52.422005</td>\n",
       "      <td>0.653101</td>\n",
       "      <td>0.654541</td>\n",
       "      <td>-0.658432</td>\n",
       "      <td>-0.995154</td>\n",
       "      <td>0</td>\n",
       "    </tr>\n",
       "    <tr>\n",
       "      <th>52</th>\n",
       "      <td>0.000258</td>\n",
       "      <td>0.095961</td>\n",
       "      <td>0.980204</td>\n",
       "      <td>9.708659e-06</td>\n",
       "      <td>0.000006</td>\n",
       "      <td>22545.31</td>\n",
       "      <td>2573.583407</td>\n",
       "      <td>2.860101</td>\n",
       "      <td>-1.430011</td>\n",
       "      <td>22545.557582</td>\n",
       "      <td>...</td>\n",
       "      <td>180.550317</td>\n",
       "      <td>575.416080</td>\n",
       "      <td>1.868878</td>\n",
       "      <td>1</td>\n",
       "      <td>6528.656673</td>\n",
       "      <td>0.331089</td>\n",
       "      <td>0.251222</td>\n",
       "      <td>0.494380</td>\n",
       "      <td>0.925470</td>\n",
       "      <td>0</td>\n",
       "    </tr>\n",
       "    <tr>\n",
       "      <th>59</th>\n",
       "      <td>0.000080</td>\n",
       "      <td>0.005632</td>\n",
       "      <td>0.999121</td>\n",
       "      <td>4.725882e-06</td>\n",
       "      <td>0.000002</td>\n",
       "      <td>17165.68</td>\n",
       "      <td>3269.345113</td>\n",
       "      <td>2.342275</td>\n",
       "      <td>1.872554</td>\n",
       "      <td>17166.005172</td>\n",
       "      <td>...</td>\n",
       "      <td>80.421850</td>\n",
       "      <td>408.238691</td>\n",
       "      <td>0.330570</td>\n",
       "      <td>1</td>\n",
       "      <td>356.490454</td>\n",
       "      <td>0.166661</td>\n",
       "      <td>-2.068852</td>\n",
       "      <td>0.181437</td>\n",
       "      <td>-0.314310</td>\n",
       "      <td>0</td>\n",
       "    </tr>\n",
       "    <tr>\n",
       "      <th>69</th>\n",
       "      <td>0.000081</td>\n",
       "      <td>0.021237</td>\n",
       "      <td>0.999200</td>\n",
       "      <td>1.928787e-07</td>\n",
       "      <td>0.000004</td>\n",
       "      <td>17936.37</td>\n",
       "      <td>2704.717584</td>\n",
       "      <td>2.579246</td>\n",
       "      <td>0.508966</td>\n",
       "      <td>17936.681200</td>\n",
       "      <td>...</td>\n",
       "      <td>125.208357</td>\n",
       "      <td>359.743951</td>\n",
       "      <td>8.557813</td>\n",
       "      <td>1</td>\n",
       "      <td>71.846260</td>\n",
       "      <td>0.129429</td>\n",
       "      <td>-0.842600</td>\n",
       "      <td>-0.148659</td>\n",
       "      <td>0.320271</td>\n",
       "      <td>0</td>\n",
       "    </tr>\n",
       "    <tr>\n",
       "      <th>72</th>\n",
       "      <td>0.012215</td>\n",
       "      <td>0.304623</td>\n",
       "      <td>0.969430</td>\n",
       "      <td>4.447471e-06</td>\n",
       "      <td>0.002332</td>\n",
       "      <td>6093.38</td>\n",
       "      <td>958.479961</td>\n",
       "      <td>2.536513</td>\n",
       "      <td>1.915881</td>\n",
       "      <td>6094.295982</td>\n",
       "      <td>...</td>\n",
       "      <td>41.231172</td>\n",
       "      <td>561.164033</td>\n",
       "      <td>1.047797</td>\n",
       "      <td>1</td>\n",
       "      <td>234.371538</td>\n",
       "      <td>0.314905</td>\n",
       "      <td>-1.506163</td>\n",
       "      <td>-0.546564</td>\n",
       "      <td>-0.717638</td>\n",
       "      <td>0</td>\n",
       "    </tr>\n",
       "  </tbody>\n",
       "</table>\n",
       "<p>5 rows × 69 columns</p>\n",
       "</div>"
      ],
      "text/plain": [
       "    mu_plus_MC15TuneV1_ProbNNk  mu_plus_MC15TuneV1_ProbNNpi  \\\n",
       "10                    0.013673                     0.002983   \n",
       "52                    0.000258                     0.095961   \n",
       "59                    0.000080                     0.005632   \n",
       "69                    0.000081                     0.021237   \n",
       "72                    0.012215                     0.304623   \n",
       "\n",
       "    mu_plus_MC15TuneV1_ProbNNmu  mu_plus_MC15TuneV1_ProbNNe  \\\n",
       "10                     0.966088                5.676895e-03   \n",
       "52                     0.980204                9.708659e-06   \n",
       "59                     0.999121                4.725882e-06   \n",
       "69                     0.999200                1.928787e-07   \n",
       "72                     0.969430                4.447471e-06   \n",
       "\n",
       "    mu_plus_MC15TuneV1_ProbNNp  mu_plus_P   mu_plus_PT  mu_plus_ETA  \\\n",
       "10                    0.001963    6594.92   574.851413     3.131186   \n",
       "52                    0.000006   22545.31  2573.583407     2.860101   \n",
       "59                    0.000002   17165.68  3269.345113     2.342275   \n",
       "69                    0.000004   17936.37  2704.717584     2.579246   \n",
       "72                    0.002332    6093.38   958.479961     2.536513   \n",
       "\n",
       "    mu_plus_PHI    mu_plus_PE  ...  Kstar_FDCHI2_OWNPV    J_psi_MM  \\\n",
       "10     2.755104   6595.766331  ...          169.407770  808.169625   \n",
       "52    -1.430011  22545.557582  ...          180.550317  575.416080   \n",
       "59     1.872554  17166.005172  ...           80.421850  408.238691   \n",
       "69     0.508966  17936.681200  ...          125.208357  359.743951   \n",
       "72     1.915881   6094.295982  ...           41.231172  561.164033   \n",
       "\n",
       "    J_psi_ENDVERTEX_CHI2  J_psi_ENDVERTEX_NDOF  J_psi_FDCHI2_OWNPV        q2  \\\n",
       "10              0.199321                     1           52.422005  0.653101   \n",
       "52              1.868878                     1         6528.656673  0.331089   \n",
       "59              0.330570                     1          356.490454  0.166661   \n",
       "69              8.557813                     1           71.846260  0.129429   \n",
       "72              1.047797                     1          234.371538  0.314905   \n",
       "\n",
       "         phi  costhetal  costhetak  evtType  \n",
       "10  0.654541  -0.658432  -0.995154        0  \n",
       "52  0.251222   0.494380   0.925470        0  \n",
       "59 -2.068852   0.181437  -0.314310        0  \n",
       "69 -0.842600  -0.148659   0.320271        0  \n",
       "72 -1.506163  -0.546564  -0.717638        0  \n",
       "\n",
       "[5 rows x 69 columns]"
      ]
     },
     "execution_count": 19,
     "metadata": {},
     "output_type": "execute_result"
    }
   ],
   "source": [
    "df = pd.read_pickle(\"data/sig.pkl\")\n",
    "\n",
    "# %% bin splitting\n",
    "# I'm sure there's a more elegant solution but I can't think of one right now.\n",
    "\n",
    "bin0 = df[(df['q2'] > 0.1) & (df['q2'] <= 0.98)]\n",
    "bin1 = df[(df['q2'] > 1.1) & (df['q2'] <= 2.5)]\n",
    "bin2 = df[(df['q2'] > 2.5) & (df['q2'] <= 4.0)]\n",
    "bin3 = df[(df['q2'] > 4.0) & (df['q2'] <= 6.0)]\n",
    "bin4 = df[(df['q2'] > 6.0) & (df['q2'] <= 8.0)]\n",
    "bin5 = df[(df['q2'] > 15.0) & (df['q2'] <= 17.0)]\n",
    "bin6 = df[(df['q2'] > 17.0) & (df['q2'] <= 19.0)]\n",
    "bin7 = df[(df['q2'] > 11.0) & (df['q2'] <= 12.5)]\n",
    "bin8 = df[(df['q2'] > 1.0) & (df['q2'] <= 6.0)] # ???\n",
    "# we're only given toy data up to bin 6, so how can we check that this isn't a mistake?\n",
    "bin9 = df[(df['q2'] > 15.0) & (df['q2'] <= 17.9)]\n",
    "\n",
    "bins = [bin0, bin1, bin2, bin3, bin4, bin5, bin6, bin7, bin8, bin9]\n",
    "\n",
    "bins[0].head()"
   ]
  },
  {
   "cell_type": "markdown",
   "metadata": {
    "collapsed": false
   },
   "source": [
    "Let us have a look at the distribution of the variable $cos(\\theta_l)$, which will be used below, in one of the bins."
   ]
  },
  {
   "cell_type": "code",
   "execution_count": 20,
   "metadata": {
    "collapsed": false,
    "pycharm": {
     "name": "#%%\n"
    }
   },
   "outputs": [
    {
     "data": {
      "image/png": "[encoded data removed]",
      "text/plain": [
       "<Figure size 432x288 with 1 Axes>"
      ]
     },
     "metadata": {
      "needs_background": "light"
     },
     "output_type": "display_data"
    }
   ],
   "source": [
    "plt.hist(bins[3]['costhetal'], bins=25, density=True)\n",
    "plt.xlabel(r'$cos(\\theta_l)$')\n",
    "plt.ylabel(r'Number of candidates')\n",
    "plt.grid()\n",
    "plt.show()"
   ]
  },
  {
   "cell_type": "markdown",
   "metadata": {
    "collapsed": false
   },
   "source": [
    "## Fitting\n",
    "Let us assume a flat acceptance distribution for the following.\n",
    "We have\n",
    "$\\frac{d^2\\Gamma_P}{dq^2dcos\\theta_l} = \\frac{3}{8}[\\frac{3}{2} - \\frac{1}{2}F_L + \\frac{1}{2}cos2\\theta_l(1-3F_L) + \\frac{8}{3}A_{FB}cos\\theta_l]$"
   ]
  },
  {
   "cell_type": "code",
   "execution_count": 21,
   "metadata": {
    "collapsed": false,
    "pycharm": {
     "name": "#%%\n"
    }
   },
   "outputs": [],
   "source": [
    "def d2gamma_p_d2q2_dcostheta(fl, afb, cos_theta_l):\n",
    "    \"\"\"\n",
    "    Returns the pdf defined above\n",
    "    :param fl: f_l observable\n",
    "    :param afb: a_fb observable\n",
    "    :param cos_theta_l: cos(theta_l)\n",
    "    :return:\n",
    "    \"\"\"\n",
    "    ctl = cos_theta_l\n",
    "    c2tl = 2 * ctl ** 2 - 1\n",
    "    acceptance = 0.5  # acceptance \"function\"\n",
    "    scalar_array = 3/8 * (3/2 - 1/2 * fl + 1/2 * c2tl * (1 - 3 * fl) + 8/3 * afb * ctl) * acceptance\n",
    "    normalised_scalar_array = scalar_array * 2  # normalising scalar array to account for the non-unity acceptance function\n",
    "    return normalised_scalar_array\n",
    "\n",
    "def log_likelihood(fl, afb, _bin):\n",
    "    \"\"\"\n",
    "    Returns the negative log-likelihood of the pdf defined above\n",
    "    :param fl: f_l observable\n",
    "    :param afb: a_fb observable\n",
    "    :param _bin: number of the bin to fit\n",
    "    :return:\n",
    "    \"\"\"\n",
    "    _bin = bins[int(_bin)]\n",
    "    ctl = _bin['costhetal']\n",
    "    normalised_scalar_array = d2gamma_p_d2q2_dcostheta(fl=fl, afb=afb, cos_theta_l=ctl)\n",
    "    return - np.sum(np.log(normalised_scalar_array))"
   ]
  },
  {
   "cell_type": "markdown",
   "metadata": {
    "collapsed": false
   },
   "source": [
    "Let us check how the negative log-likelihood function defined above looks like for a given bin and a fixed $A_{FB}$ or a fixed $F_L$."
   ]
  },
  {
   "cell_type": "code",
   "execution_count": 22,
   "metadata": {
    "collapsed": false,
    "pycharm": {
     "name": "#%%\n"
    }
   },
   "outputs": [
    {
     "name": "stderr",
     "output_type": "stream",
     "text": [
      "/home/srayan/miniconda3/envs/yr2-comp/lib/python3.8/site-packages/pandas/core/series.py:726: RuntimeWarning: invalid value encountered in log\n",
      "  result = getattr(ufunc, method)(*inputs, **kwargs)\n",
      "/home/srayan/miniconda3/envs/yr2-comp/lib/python3.8/site-packages/pandas/core/series.py:726: RuntimeWarning: invalid value encountered in log\n",
      "  result = getattr(ufunc, method)(*inputs, **kwargs)\n"
     ]
    },
    {
     "data": {
      "image/png": "[encoded data removed]",
      "text/plain": [
       "<Figure size 576x216 with 2 Axes>"
      ]
     },
     "metadata": {
      "needs_background": "light"
     },
     "output_type": "display_data"
    }
   ],
   "source": [
    "_test_bin = 1\n",
    "_test_afb = 0.7\n",
    "_test_fl = 0.0\n",
    "\n",
    "x = np.linspace(-1, 1, 500)\n",
    "fig, (ax1, ax2) = plt.subplots(1, 2, figsize=(8, 3))\n",
    "ax1.plot(x, [log_likelihood(fl=i, afb=_test_afb, _bin=_test_bin) for i in x])\n",
    "ax1.set_title(r'$A_{FB}$ = ' + str(_test_afb))\n",
    "ax1.set_xlabel(r'$F_L$')\n",
    "ax1.set_ylabel(r'$-\\mathcal{L}$')\n",
    "ax1.grid()\n",
    "ax2.plot(x, [log_likelihood(fl=_test_fl, afb=i, _bin=_test_bin) for i in x])\n",
    "ax2.set_title(r'$F_{L}$ = ' + str(_test_fl))\n",
    "ax2.set_xlabel(r'$A_{FB}$')\n",
    "ax2.set_ylabel(r'$-\\mathcal{L}$')\n",
    "ax2.grid()\n",
    "plt.tight_layout()\n",
    "plt.show()"
   ]
  },
  {
   "cell_type": "markdown",
   "metadata": {
    "collapsed": false
   },
   "source": [
    "### Fitting\n",
    "We then use `iminuit` to optimize $A_{FB}$ and $F_L$."
   ]
  },
  {
   "cell_type": "code",
   "execution_count": 23,
   "metadata": {
    "collapsed": false,
    "pycharm": {
     "name": "#%%\n"
    }
   },
   "outputs": [
    {
     "name": "stdout",
     "output_type": "stream",
     "text": [
      "Bin 0: 0.669 pm 0.034, -0.052 pm 0.018. Function minimum considered valid: True\n"
     ]
    },
    {
     "name": "stderr",
     "output_type": "stream",
     "text": [
      "/home/srayan/miniconda3/envs/yr2-comp/lib/python3.8/site-packages/pandas/core/series.py:726: RuntimeWarning: invalid value encountered in log\n",
      "  result = getattr(ufunc, method)(*inputs, **kwargs)\n"
     ]
    },
    {
     "name": "stdout",
     "output_type": "stream",
     "text": [
      "Bin 1: 1.0 pm 0.012, -0.39 pm 0.013. Function minimum considered valid: False\n",
      "Bin 2: 0.747 pm 0.047, -0.146 pm 0.028. Function minimum considered valid: True\n",
      "Bin 3: 0.74 pm 0.038, -0.006 pm 0.023. Function minimum considered valid: True\n",
      "Bin 4: 0.531 pm 0.039, 0.204 pm 0.023. Function minimum considered valid: True\n",
      "Bin 5: 0.264 pm 0.041, 0.427 pm 0.023. Function minimum considered valid: True\n",
      "Bin 6: 0.242 pm 0.058, 0.393 pm 0.035. Function minimum considered valid: True\n",
      "Bin 7: 1.0 pm 0.011, 0.99 pm 0.021. Function minimum considered valid: True\n",
      "Bin 8: 0.759 pm 0.023, -0.09 pm 0.014. Function minimum considered valid: True\n",
      "Bin 9: 0.266 pm 0.036, 0.428 pm 0.02. Function minimum considered valid: True\n"
     ]
    }
   ],
   "source": [
    "bin_number_to_check = 0  # bin that we want to check in more details in the next cell\n",
    "bin_results_to_check = None\n",
    "\n",
    "log_likelihood.errordef = Minuit.LIKELIHOOD\n",
    "decimal_places = 3\n",
    "starting_point = [-0.1,0.0]\n",
    "fls, fl_errs = [], []\n",
    "afbs, afb_errs = [], []\n",
    "for i in range(len(bins)):\n",
    "    m = Minuit(log_likelihood, fl=starting_point[0], afb=starting_point[1], _bin=i)\n",
    "    m.fixed['_bin'] = True  # fixing the bin number as we don't want to optimize it\n",
    "    m.limits=((-1.0, 1.0), (-1.0, 1.0), None)\n",
    "    m.migrad()\n",
    "    m.hesse()\n",
    "    if i == bin_number_to_check:\n",
    "        bin_results_to_check = m\n",
    "    fls.append(m.values[0])\n",
    "    afbs.append(m.values[1])\n",
    "    fl_errs.append(m.errors[0])\n",
    "    afb_errs.append(m.errors[1])\n",
    "    print(f\"Bin {i}: {np.round(fls[i], decimal_places)} pm {np.round(fl_errs[i], decimal_places)},\", f\"{np.round(afbs[i], decimal_places)} pm {np.round(afb_errs[i], decimal_places)}. Function minimum considered valid: {m.fmin.is_valid}\")"
   ]
  },
  {
   "cell_type": "markdown",
   "metadata": {
    "collapsed": false
   },
   "source": [
    "Let us also look at the profiles for $A_{FB}$ and $F_L$ for a bin (e.g. bin number 0)."
   ]
  },
  {
   "cell_type": "code",
   "execution_count": 24,
   "metadata": {
    "collapsed": false,
    "pycharm": {
     "name": "#%%\n"
    }
   },
   "outputs": [
    {
     "data": {
      "image/png": "[encoded data removed]",
      "text/plain": [
       "<Figure size 576x360 with 2 Axes>"
      ]
     },
     "metadata": {
      "needs_background": "light"
     },
     "output_type": "display_data"
    }
   ],
   "source": [
    "plt.figure(figsize=(8, 5))\n",
    "plt.subplot(221)\n",
    "bin_results_to_check.draw_mnprofile('afb', bound=3)\n",
    "plt.subplot(222)\n",
    "bin_results_to_check.draw_mnprofile('fl', bound=3)\n",
    "plt.tight_layout()\n",
    "plt.show()"
   ]
  },
  {
   "cell_type": "markdown",
   "metadata": {
    "collapsed": false
   },
   "source": [
    "We can also plot the resulting fitted PDF over the measured $cos(\\theta_l)$ distribution."
   ]
  },
  {
   "cell_type": "code",
   "execution_count": 25,
   "metadata": {
    "collapsed": false,
    "pycharm": {
     "name": "#%%\n"
    }
   },
   "outputs": [
    {
     "data": {
      "image/png": "[encoded data removed]",
      "text/plain": [
       "<Figure size 432x288 with 1 Axes>"
      ]
     },
     "metadata": {
      "needs_background": "light"
     },
     "output_type": "display_data"
    }
   ],
   "source": [
    "bin_to_plot = 3\n",
    "number_of_bins_in_hist = 25\n",
    "cos_theta_l_bin = bins[bin_to_plot]['costhetal']\n",
    "hist, _bins, _ = plt.hist(cos_theta_l_bin, bins=number_of_bins_in_hist)\n",
    "x = np.linspace(-1, 1, number_of_bins_in_hist)\n",
    "pdf_multiplier = np.sum(hist) * (np.max(cos_theta_l_bin) - np.min(cos_theta_l_bin)) / number_of_bins_in_hist\n",
    "y = d2gamma_p_d2q2_dcostheta(fl=fls[bin_to_plot], afb=afbs[bin_to_plot], cos_theta_l=x) * pdf_multiplier\n",
    "plt.plot(x, y, label=f'Fit for bin {bin_to_plot}')\n",
    "plt.xlabel(r'$cos(\\theta_l)$')\n",
    "plt.ylabel(r'Number of candidates')\n",
    "plt.legend()\n",
    "plt.grid()\n",
    "plt.show()"
   ]
  },
  {
   "cell_type": "markdown",
   "metadata": {
    "collapsed": false
   },
   "source": [
    "Finally, let us visualize the results in each bin."
   ]
  },
  {
   "cell_type": "code",
   "execution_count": 26,
   "metadata": {
    "collapsed": false,
    "pycharm": {
     "name": "#%%\n"
    }
   },
   "outputs": [
    {
     "data": {
      "image/png": "[encoded data removed]",
      "text/plain": [
       "<Figure size 504x216 with 2 Axes>"
      ]
     },
     "metadata": {
      "needs_background": "light"
     },
     "output_type": "display_data"
    }
   ],
   "source": [
    "fig, (ax1, ax2) = plt.subplots(1, 2, figsize=(7, 3))\n",
    "ax1.errorbar(np.linspace(0, len(bins) - 1, len(bins)), fls, yerr=fl_errs, fmt='o', markersize=2, label=r'$F_L$', color='red')\n",
    "ax2.errorbar(np.linspace(0, len(bins) - 1, len(bins)), afbs, yerr=afb_errs, fmt='o', markersize=2, label=r'$A_{FB}$', color='red')\n",
    "ax1.grid()\n",
    "ax2.grid()\n",
    "ax1.set_ylabel(r'$F_L$')\n",
    "ax2.set_ylabel(r'$A_{FB}$')\n",
    "ax1.set_xlabel(r'Bin number')\n",
    "ax2.set_xlabel(r'Bin number')\n",
    "plt.tight_layout()\n",
    "plt.show()\n"
   ]
  }
 ],
 "metadata": {
  "kernelspec": {
   "display_name": "Python 3",
   "language": "python",
   "name": "python3"
  },
  "language_info": {
   "codemirror_mode": {
    "name": "ipython",
    "version": 3
   },
   "file_extension": ".py",
   "mimetype": "text/x-python",
   "name": "python",
   "nbconvert_exporter": "python",
   "pygments_lexer": "ipython3",
   "version": "3.8.5"
  }
 },
 "nbformat": 4,
 "nbformat_minor": 0
}
